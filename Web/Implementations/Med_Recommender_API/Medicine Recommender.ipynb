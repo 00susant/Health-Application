{
 "cells": [
  {
   "cell_type": "code",
   "execution_count": 1,
   "id": "mathematical-peeing",
   "metadata": {},
   "outputs": [],
   "source": [
    "import pandas as pd\n",
    "import plotly\n",
    "import dash\n",
    "import dash_core_components as dcc\n",
    "import dash_html_components as html\n",
    "from dash.dependencies import Input, Output, State\n",
    "from jupyter_dash import JupyterDash\n",
    "import plotly.express as px"
   ]
  },
  {
   "cell_type": "code",
   "execution_count": 2,
   "id": "white-shelter",
   "metadata": {},
   "outputs": [],
   "source": [
    "df = pd.read_csv('final_test.csv')"
   ]
  },
  {
   "cell_type": "code",
   "execution_count": 3,
   "id": "contained-compound",
   "metadata": {},
   "outputs": [
    {
     "data": {
      "text/html": [
       "<div>\n",
       "<style scoped>\n",
       "    .dataframe tbody tr th:only-of-type {\n",
       "        vertical-align: middle;\n",
       "    }\n",
       "\n",
       "    .dataframe tbody tr th {\n",
       "        vertical-align: top;\n",
       "    }\n",
       "\n",
       "    .dataframe thead th {\n",
       "        text-align: right;\n",
       "    }\n",
       "</style>\n",
       "<table border=\"1\" class=\"dataframe\">\n",
       "  <thead>\n",
       "    <tr style=\"text-align: right;\">\n",
       "      <th></th>\n",
       "      <th>condition</th>\n",
       "      <th>drugName</th>\n",
       "      <th>total_pred</th>\n",
       "    </tr>\n",
       "  </thead>\n",
       "  <tbody>\n",
       "    <tr>\n",
       "      <th>0</th>\n",
       "      <td>NaN</td>\n",
       "      <td>NaN</td>\n",
       "      <td>mean</td>\n",
       "    </tr>\n",
       "    <tr>\n",
       "      <th>1</th>\n",
       "      <td>ADHD</td>\n",
       "      <td>Adderall</td>\n",
       "      <td>0.07080844933433192</td>\n",
       "    </tr>\n",
       "    <tr>\n",
       "      <th>2</th>\n",
       "      <td>ADHD</td>\n",
       "      <td>Adderall XR</td>\n",
       "      <td>0.041841939268248966</td>\n",
       "    </tr>\n",
       "    <tr>\n",
       "      <th>3</th>\n",
       "      <td>ADHD</td>\n",
       "      <td>Adzenys XR-ODT</td>\n",
       "      <td>0.010929073152002148</td>\n",
       "    </tr>\n",
       "    <tr>\n",
       "      <th>4</th>\n",
       "      <td>ADHD</td>\n",
       "      <td>Amantadine</td>\n",
       "      <td>0.011078712760761219</td>\n",
       "    </tr>\n",
       "  </tbody>\n",
       "</table>\n",
       "</div>"
      ],
      "text/plain": [
       "  condition        drugName            total_pred\n",
       "0       NaN             NaN                  mean\n",
       "1      ADHD        Adderall   0.07080844933433192\n",
       "2      ADHD     Adderall XR  0.041841939268248966\n",
       "3      ADHD  Adzenys XR-ODT  0.010929073152002148\n",
       "4      ADHD      Amantadine  0.011078712760761219"
      ]
     },
     "execution_count": 3,
     "metadata": {},
     "output_type": "execute_result"
    }
   ],
   "source": [
    "df.head()"
   ]
  },
  {
   "cell_type": "code",
   "execution_count": 4,
   "id": "applied-dallas",
   "metadata": {},
   "outputs": [],
   "source": [
    "df = df.loc[1:]"
   ]
  },
  {
   "cell_type": "code",
   "execution_count": 5,
   "id": "skilled-regulation",
   "metadata": {},
   "outputs": [],
   "source": [
    "df = df.reset_index(drop=True)"
   ]
  },
  {
   "cell_type": "code",
   "execution_count": 6,
   "id": "frank-interaction",
   "metadata": {},
   "outputs": [
    {
     "data": {
      "text/html": [
       "<div>\n",
       "<style scoped>\n",
       "    .dataframe tbody tr th:only-of-type {\n",
       "        vertical-align: middle;\n",
       "    }\n",
       "\n",
       "    .dataframe tbody tr th {\n",
       "        vertical-align: top;\n",
       "    }\n",
       "\n",
       "    .dataframe thead th {\n",
       "        text-align: right;\n",
       "    }\n",
       "</style>\n",
       "<table border=\"1\" class=\"dataframe\">\n",
       "  <thead>\n",
       "    <tr style=\"text-align: right;\">\n",
       "      <th></th>\n",
       "      <th>condition</th>\n",
       "      <th>drugName</th>\n",
       "      <th>total_pred</th>\n",
       "    </tr>\n",
       "  </thead>\n",
       "  <tbody>\n",
       "    <tr>\n",
       "      <th>0</th>\n",
       "      <td>ADHD</td>\n",
       "      <td>Adderall</td>\n",
       "      <td>0.07080844933433192</td>\n",
       "    </tr>\n",
       "    <tr>\n",
       "      <th>1</th>\n",
       "      <td>ADHD</td>\n",
       "      <td>Adderall XR</td>\n",
       "      <td>0.041841939268248966</td>\n",
       "    </tr>\n",
       "    <tr>\n",
       "      <th>2</th>\n",
       "      <td>ADHD</td>\n",
       "      <td>Adzenys XR-ODT</td>\n",
       "      <td>0.010929073152002148</td>\n",
       "    </tr>\n",
       "    <tr>\n",
       "      <th>3</th>\n",
       "      <td>ADHD</td>\n",
       "      <td>Amantadine</td>\n",
       "      <td>0.011078712760761219</td>\n",
       "    </tr>\n",
       "    <tr>\n",
       "      <th>4</th>\n",
       "      <td>ADHD</td>\n",
       "      <td>Amphetamine</td>\n",
       "      <td>0.014158172218785762</td>\n",
       "    </tr>\n",
       "  </tbody>\n",
       "</table>\n",
       "</div>"
      ],
      "text/plain": [
       "  condition        drugName            total_pred\n",
       "0      ADHD        Adderall   0.07080844933433192\n",
       "1      ADHD     Adderall XR  0.041841939268248966\n",
       "2      ADHD  Adzenys XR-ODT  0.010929073152002148\n",
       "3      ADHD      Amantadine  0.011078712760761219\n",
       "4      ADHD     Amphetamine  0.014158172218785762"
      ]
     },
     "execution_count": 6,
     "metadata": {},
     "output_type": "execute_result"
    }
   ],
   "source": [
    "df.head()"
   ]
  },
  {
   "cell_type": "code",
   "execution_count": 7,
   "id": "promising-campus",
   "metadata": {
    "scrolled": true
   },
   "outputs": [],
   "source": [
    "import numpy as np\n",
    "df['total_pred'] = df['total_pred'].astype(float)\n",
    "df['total_pred'] = np.around(df['total_pred'],decimals=3)"
   ]
  },
  {
   "cell_type": "code",
   "execution_count": 11,
   "id": "asian-sunglasses",
   "metadata": {},
   "outputs": [
    {
     "name": "stdout",
     "output_type": "stream",
     "text": [
      "Dash app running on http://localhost:7647/\n"
     ]
    }
   ],
   "source": [
    "# Create a dash application\n",
    "app = JupyterDash(__name__)\n",
    "JupyterDash.infer_jupyter_proxy_config()\n",
    "#JupyterDash.infer_jupyter_proxy_config()\n",
    "\n",
    "app.layout = html.Div(children = [\n",
    "    # Title\n",
    "    html.H1('Medicine Recommendation System',\n",
    "            style = {'textAlign': 'center','color' : '#503D36','font-size': '40px'}),\n",
    "    \n",
    "    \n",
    "    html.Div(['Medical Condition: ', dcc.Input(id = 'condition-text', value = 'ADHD', type ='text', style = {'height':'35px', 'font-size': 25})], style={'font-size': 30}),\n",
    "    \n",
    "    html.Br(),\n",
    "    html.Div(dcc.Graph(id = 'med-importance'), style={'width':'65%'})\n",
    "])\n",
    "\n",
    "@app.callback(\n",
    "    Output(component_id = 'med-importance', component_property = 'figure'),\n",
    "    Input(component_id = 'condition-text', component_property = 'value')\n",
    ")\n",
    "\n",
    "def get_graph(test):\n",
    "    print(test)\n",
    "    #img = medication(test)\n",
    "    \n",
    "    medicines = df[df['condition']==test].sort_values('total_pred', ascending=False)[:10]\n",
    "    medicines = medicines.reset_index()\n",
    "    #print(medicines)\n",
    "    img = px.bar(medicines, x = 'drugName', y = 'total_pred', width=1500, height=600)\n",
    "    \n",
    "    return img\n",
    "\n",
    "\n",
    "\n",
    "\n",
    "if __name__ == '__main__':\n",
    "    app.run_server(mode=\"external\", host=\"localhost\", port=7647, debug=True)"
   ]
  },
  {
   "cell_type": "code",
   "execution_count": null,
   "id": "essential-brand",
   "metadata": {},
   "outputs": [],
   "source": []
  }
 ],
 "metadata": {
  "kernelspec": {
   "display_name": "Python 3",
   "language": "python",
   "name": "python3"
  },
  "language_info": {
   "codemirror_mode": {
    "name": "ipython",
    "version": 3
   },
   "file_extension": ".py",
   "mimetype": "text/x-python",
   "name": "python",
   "nbconvert_exporter": "python",
   "pygments_lexer": "ipython3",
   "version": "3.7.6"
  }
 },
 "nbformat": 4,
 "nbformat_minor": 5
}
